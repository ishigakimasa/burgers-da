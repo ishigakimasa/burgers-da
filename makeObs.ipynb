{
 "cells": [
  {
   "cell_type": "code",
   "execution_count": 1,
   "id": "d5722c70-63d7-4bf6-8f60-ba4a817b136c",
   "metadata": {},
   "outputs": [],
   "source": [
    "using HDF5\n",
    "using Parameters"
   ]
  },
  {
   "cell_type": "code",
   "execution_count": 2,
   "id": "95b948c4-f212-4df6-bfb9-871348efc4c5",
   "metadata": {},
   "outputs": [
    {
     "data": {
      "text/plain": [
       "Param{Float64, Int64}\n",
       "  L: Float64 1.0\n",
       "  dt: Float64 0.005\n",
       "  xmax: Int64 51\n",
       "  dx: Float64 0.02\n",
       "  nstep: Int64 1000\n",
       "  nu: Float64 0.01\n",
       "  diffuse: Float64 0.125\n",
       "  ndata: Int64 5\n"
      ]
     },
     "execution_count": 2,
     "metadata": {},
     "output_type": "execute_result"
    }
   ],
   "source": [
    "@with_kw struct Param{T1,T2}\n",
    "    L::T1 = 1.0\n",
    "    dt::T1 = 0.005\n",
    "    xmax::T2 = 51\n",
    "    \n",
    "    dx::T1 = L/(xmax-1)\n",
    "    \n",
    "    nstep::T2 = 1000\n",
    "    \n",
    "    nu::T1 = 0.01\n",
    "    diffuse::T1 = nu*dt/dx^2\n",
    "    ndata::T2 = 5\n",
    "end\n",
    "\n",
    "para = Param()"
   ]
  },
  {
   "cell_type": "code",
   "execution_count": 3,
   "id": "b8e2cc65-d712-45a8-8ffd-0f5d1ab84422",
   "metadata": {},
   "outputs": [
    {
     "data": {
      "text/plain": [
       "makeobs (generic function with 1 method)"
      ]
     },
     "execution_count": 3,
     "metadata": {},
     "output_type": "execute_result"
    }
   ],
   "source": [
    "function makeobs(para)\n",
    "    @unpack nstep, ndata, xmax = para\n",
    "\n",
    "    for n=1:nstep\n",
    "        if n%ndata == 0\n",
    "            filename = \"data_true/data_true\"*string(n)*\".h5\"\n",
    "            file = h5open(filename, \"r\") \n",
    "            nutrue = read(file, \"nu\")\n",
    "            utrue = read(file, \"u\")\n",
    "            close(file)\n",
    "            #println(\"n=\", n, \",\", utrue)\n",
    "\n",
    "            nuobs = nutrue + 1e-4*randn()\n",
    "            uobs = utrue + 0.05*randn(xmax)\n",
    "\n",
    "            h5open(\"data_obs/data_obs\"*string(n)*\".h5\", \"w\") do file\n",
    "            write(file, \"nu\", nuobs)\n",
    "            write(file, \"u\", uobs)\n",
    "            end\n",
    "        end\n",
    "    end\n",
    "end"
   ]
  },
  {
   "cell_type": "code",
   "execution_count": 4,
   "id": "5ebef178-d80a-47de-b09c-f62718d6b9b0",
   "metadata": {},
   "outputs": [],
   "source": [
    "makeobs(para)"
   ]
  },
  {
   "cell_type": "code",
   "execution_count": 9,
   "id": "38f2b939-f3c1-41e4-a712-55949e815b5c",
   "metadata": {},
   "outputs": [
    {
     "data": {
      "text/plain": [
       "(200, 100)"
      ]
     },
     "execution_count": 9,
     "metadata": {},
     "output_type": "execute_result"
    }
   ],
   "source": [
    "A= rand(200, 100)\n",
    "size(A)"
   ]
  },
  {
   "cell_type": "code",
   "execution_count": 8,
   "id": "cb7ec122-1899-461a-beeb-56bcbc85dd86",
   "metadata": {},
   "outputs": [
    {
     "data": {
      "text/plain": [
       "200×100 Matrix{Float64}:\n",
       " 0.447928   0.896137    0.491535   …  0.603357    0.0050317  0.402257\n",
       " 0.651036   0.842505    0.67337       0.230965    0.164033   0.552779\n",
       " 0.31256    0.346179    0.472197      0.0036805   0.713338   0.407845\n",
       " 0.920784   0.146961    0.983227      0.91581     0.271032   0.785935\n",
       " 0.116211   0.11701     0.38627       0.926758    0.465086   0.0104171\n",
       " 0.250853   0.727049    0.319862   …  0.979814    0.982092   0.5733\n",
       " 0.917388   0.933877    0.2021        0.810437    0.944704   0.948406\n",
       " 0.278635   0.115977    0.468722      0.00654336  0.532331   0.852449\n",
       " 0.211219   0.89636     0.551661      0.600875    0.160383   0.013593\n",
       " 0.912467   0.609709    0.838574      0.045795    0.810278   0.976463\n",
       " 0.307986   0.744515    0.981066   …  0.331659    0.832764   0.166205\n",
       " 0.292429   0.172761    0.501818      0.348485    0.853526   0.781888\n",
       " 0.962062   0.745105    0.119746      0.902097    0.292865   0.563219\n",
       " ⋮                                 ⋱                         \n",
       " 0.0516353  0.00377992  0.671731      0.677567    0.406954   0.142303\n",
       " 0.613721   0.335213    0.725657      0.746307    0.0571335  0.716841\n",
       " 0.498896   0.786291    0.540893   …  0.441086    0.344658   0.87241\n",
       " 0.472937   0.515804    0.48435       0.552019    0.759929   0.464396\n",
       " 0.101999   0.703575    0.31666       0.457526    0.548194   0.913243\n",
       " 0.728577   0.38051     0.721107      0.357761    0.720821   0.614426\n",
       " 0.712397   0.552453    0.0814523     0.632617    0.225742   0.45666\n",
       " 0.624855   0.856785    0.200032   …  0.807789    0.817548   0.762349\n",
       " 0.901532   0.831119    0.252033      0.281614    0.368851   0.406432\n",
       " 0.139555   0.206475    0.0958696     0.469636    0.69372    0.951017\n",
       " 0.120101   0.917453    0.695507      0.455495    0.610023   0.00362089\n",
       " 0.309259   0.719692    0.681288      0.678717    0.533829   0.78493"
      ]
     },
     "execution_count": 8,
     "metadata": {},
     "output_type": "execute_result"
    }
   ],
   "source": [
    "rand(size(A)[1], size(A)[2])"
   ]
  },
  {
   "cell_type": "code",
   "execution_count": null,
   "id": "26e6cf12-42de-4afc-ac79-71d51c8280b6",
   "metadata": {},
   "outputs": [],
   "source": []
  }
 ],
 "metadata": {
  "kernelspec": {
   "display_name": "Julia 1.10.3",
   "language": "julia",
   "name": "julia-1.10"
  },
  "language_info": {
   "file_extension": ".jl",
   "mimetype": "application/julia",
   "name": "julia",
   "version": "1.10.3"
  }
 },
 "nbformat": 4,
 "nbformat_minor": 5
}
